{
 "cells": [
  {
   "cell_type": "code",
   "execution_count": 1,
   "metadata": {},
   "outputs": [],
   "source": [
    "# set working directory to parent\n",
    "import os\n",
    "os.chdir(\"..\")"
   ]
  },
  {
   "cell_type": "code",
   "execution_count": 2,
   "metadata": {},
   "outputs": [
    {
     "name": "stdout",
     "output_type": "stream",
     "text": [
      "Version:  2.0.0\n",
      "Eager mode:  True\n",
      "Hub version:  0.7.0\n",
      "GPU is NOT AVAILABLE\n"
     ]
    }
   ],
   "source": [
    "# import packages\n",
    "import pandas as pd\n",
    "import numpy as np\n",
    "\n",
    "# tensorflow\n",
    "import tensorflow as tf\n",
    "import tensorflow_hub as hub\n",
    "\n",
    "# user modules\n",
    "from src.data import process_data \n",
    "from src.models.architecture import ModelBuilder\n",
    "from src.models.compile import ModelCompiler\n",
    "from src.models.train import ModelTrainer\n",
    "\n",
    "# check tf version\n",
    "print(\"Version: \", tf.__version__)\n",
    "print(\"Eager mode: \", tf.executing_eagerly())\n",
    "print(\"Hub version: \", hub.__version__)\n",
    "print(\"GPU is\", \"available\" if tf.config.experimental.list_physical_devices(\"GPU\") else \"NOT AVAILABLE\")\n"
   ]
  },
  {
   "cell_type": "code",
   "execution_count": null,
   "metadata": {},
   "outputs": [],
   "source": []
  },
  {
   "cell_type": "code",
   "execution_count": 3,
   "metadata": {},
   "outputs": [
    {
     "name": "stdout",
     "output_type": "stream",
     "text": [
      "Examples:\n",
      "    Total: 1306122\n",
      "    Positive: 80810 (6.19% of total)\n",
      "\n"
     ]
    }
   ],
   "source": [
    "# load train.csv  \n",
    "# split into 1) training, 2) test/validation_data\n",
    "train_data,test_data = process_data.train_split(process_data.retrieve_training(bucket = \"quora-questions\", file_name = \"data/train.csv\"))"
   ]
  },
  {
   "cell_type": "code",
   "execution_count": null,
   "metadata": {},
   "outputs": [],
   "source": [
    "# architecture and hypter parameter input\n",
    "# one experiment notebook per model type"
   ]
  },
  {
   "cell_type": "code",
   "execution_count": 4,
   "metadata": {},
   "outputs": [],
   "source": [
    "# build transfer learnig model \n",
    "model_builder = ModelBuilder()\n",
    "transfer_gnews = model_builder.transfer_simple(embedding_layer = \"gnews\", num_mid_nodes = 16, model_name = \"mriv_model0\")"
   ]
  },
  {
   "cell_type": "code",
   "execution_count": 5,
   "metadata": {},
   "outputs": [
    {
     "name": "stdout",
     "output_type": "stream",
     "text": [
      "Model: \"mriv_model0\"\n",
      "_________________________________________________________________\n",
      "Layer (type)                 Output Shape              Param #   \n",
      "=================================================================\n",
      "input_text (InputLayer)      [(None,)]                 0         \n",
      "_________________________________________________________________\n",
      "keras_layer (KerasLayer)     (None, 20)                400020    \n",
      "_________________________________________________________________\n",
      "dense (Dense)                (None, 16)                336       \n",
      "_________________________________________________________________\n",
      "dense_1 (Dense)              (None, 1)                 17        \n",
      "=================================================================\n",
      "Total params: 400,373\n",
      "Trainable params: 353\n",
      "Non-trainable params: 400,020\n",
      "_________________________________________________________________\n"
     ]
    }
   ],
   "source": [
    "# model summary\n",
    "transfer_gnews.summary()"
   ]
  },
  {
   "cell_type": "code",
   "execution_count": 6,
   "metadata": {},
   "outputs": [],
   "source": [
    "# compile model --> hyperparameters\n",
    "model_compiler = ModelCompiler()\n",
    "transfer_gnews = model_compiler.compile_model(transfer_gnews)\n"
   ]
  },
  {
   "cell_type": "code",
   "execution_count": 9,
   "metadata": {},
   "outputs": [
    {
     "name": "stdout",
     "output_type": "stream",
     "text": [
      "Epoch 1/20\n",
      "2041/2041 [==============================] - 32s 16ms/step - loss: 0.1917 - tp: 9782.0000 - fp: 11647.0000 - tn: 968602.0000 - fn: 54866.0000 - accuracy: 0.9363 - precision: 0.4565 - recall: 0.1513 - auc: 0.8252 - val_loss: 0.0000e+00 - val_tp: 0.0000e+00 - val_fp: 0.0000e+00 - val_tn: 0.0000e+00 - val_fn: 0.0000e+00 - val_accuracy: 0.0000e+00 - val_precision: 0.0000e+00 - val_recall: 0.0000e+00 - val_auc: 0.0000e+00\n",
      "Epoch 2/20\n",
      "2041/2041 [==============================] - 24s 12ms/step - loss: 0.1630 - tp: 11590.0000 - fp: 7626.0000 - tn: 972623.0000 - fn: 53058.0000 - accuracy: 0.9419 - precision: 0.6031 - recall: 0.1793 - auc: 0.8806 - val_loss: 0.1614 - val_tp: 2773.0000 - val_fp: 1753.0000 - val_tn: 243310.0000 - val_fn: 13389.0000 - val_accuracy: 0.9420 - val_precision: 0.6127 - val_recall: 0.1716 - val_auc: 0.8834\n",
      "Epoch 3/20\n",
      "2041/2041 [==============================] - 23s 11ms/step - loss: 0.1608 - tp: 12089.0000 - fp: 7818.0000 - tn: 972431.0000 - fn: 52559.0000 - accuracy: 0.9422 - precision: 0.6073 - recall: 0.1870 - auc: 0.8855 - val_loss: 0.1597 - val_tp: 2965.0000 - val_fp: 1856.0000 - val_tn: 243207.0000 - val_fn: 13197.0000 - val_accuracy: 0.9424 - val_precision: 0.6150 - val_recall: 0.1835 - val_auc: 0.8872\n",
      "Epoch 4/20\n",
      "2041/2041 [==============================] - 22s 11ms/step - loss: 0.1594 - tp: 12486.0000 - fp: 8027.0000 - tn: 972222.0000 - fn: 52162.0000 - accuracy: 0.9424 - precision: 0.6087 - recall: 0.1931 - auc: 0.8883 - val_loss: 0.1587 - val_tp: 2928.0000 - val_fp: 1774.0000 - val_tn: 243289.0000 - val_fn: 13234.0000 - val_accuracy: 0.9425 - val_precision: 0.6227 - val_recall: 0.1812 - val_auc: 0.8893\n",
      "Epoch 5/20\n",
      "2041/2041 [==============================] - 24s 12ms/step - loss: 0.1587 - tp: 12783.0000 - fp: 8224.0000 - tn: 972025.0000 - fn: 51865.0000 - accuracy: 0.9425 - precision: 0.6085 - recall: 0.1977 - auc: 0.8898 - val_loss: 0.1581 - val_tp: 3082.0000 - val_fp: 1918.0000 - val_tn: 243145.0000 - val_fn: 13080.0000 - val_accuracy: 0.9426 - val_precision: 0.6164 - val_recall: 0.1907 - val_auc: 0.8904\n",
      "Epoch 6/20\n",
      "2041/2041 [==============================] - 21s 10ms/step - loss: 0.1582 - tp: 12986.0000 - fp: 8378.0000 - tn: 971871.0000 - fn: 51662.0000 - accuracy: 0.9425 - precision: 0.6078 - recall: 0.2009 - auc: 0.8907 - val_loss: 0.1580 - val_tp: 2748.0000 - val_fp: 1598.0000 - val_tn: 243465.0000 - val_fn: 13414.0000 - val_accuracy: 0.9425 - val_precision: 0.6323 - val_recall: 0.1700 - val_auc: 0.8910\n",
      "Epoch 7/20\n",
      "2041/2041 [==============================] - 22s 11ms/step - loss: 0.1579 - tp: 13201.0000 - fp: 8382.0000 - tn: 971867.0000 - fn: 51447.0000 - accuracy: 0.9427 - precision: 0.6116 - recall: 0.2042 - auc: 0.8913 - val_loss: 0.1576 - val_tp: 3626.0000 - val_fp: 2385.0000 - val_tn: 242678.0000 - val_fn: 12536.0000 - val_accuracy: 0.9429 - val_precision: 0.6032 - val_recall: 0.2244 - val_auc: 0.8915\n",
      "Epoch 8/20\n",
      "2041/2041 [==============================] - 21s 10ms/step - loss: 0.1576 - tp: 13273.0000 - fp: 8522.0000 - tn: 971727.0000 - fn: 51375.0000 - accuracy: 0.9427 - precision: 0.6090 - recall: 0.2053 - auc: 0.8918 - val_loss: 0.1574 - val_tp: 2837.0000 - val_fp: 1635.0000 - val_tn: 243428.0000 - val_fn: 13325.0000 - val_accuracy: 0.9427 - val_precision: 0.6344 - val_recall: 0.1755 - val_auc: 0.8920\n",
      "Epoch 9/20\n",
      "2041/2041 [==============================] - 24s 12ms/step - loss: 0.1573 - tp: 13330.0000 - fp: 8543.0000 - tn: 971706.0000 - fn: 51318.0000 - accuracy: 0.9427 - precision: 0.6094 - recall: 0.2062 - auc: 0.8923 - val_loss: 0.1573 - val_tp: 3678.0000 - val_fp: 2422.0000 - val_tn: 242641.0000 - val_fn: 12484.0000 - val_accuracy: 0.9429 - val_precision: 0.6030 - val_recall: 0.2276 - val_auc: 0.8924\n",
      "Epoch 10/20\n",
      "2041/2041 [==============================] - 22s 11ms/step - loss: 0.1572 - tp: 13429.0000 - fp: 8549.0000 - tn: 971700.0000 - fn: 51219.0000 - accuracy: 0.9428 - precision: 0.6110 - recall: 0.2077 - auc: 0.8926 - val_loss: 0.1568 - val_tp: 3118.0000 - val_fp: 1855.0000 - val_tn: 243208.0000 - val_fn: 13044.0000 - val_accuracy: 0.9430 - val_precision: 0.6270 - val_recall: 0.1929 - val_auc: 0.8927\n",
      "Epoch 11/20\n",
      "2041/2041 [==============================] - 21s 10ms/step - loss: 0.1570 - tp: 13545.0000 - fp: 8531.0000 - tn: 971718.0000 - fn: 51103.0000 - accuracy: 0.9429 - precision: 0.6136 - recall: 0.2095 - auc: 0.8929 - val_loss: 0.1570 - val_tp: 2927.0000 - val_fp: 1694.0000 - val_tn: 243369.0000 - val_fn: 13235.0000 - val_accuracy: 0.9429 - val_precision: 0.6334 - val_recall: 0.1811 - val_auc: 0.8926\n",
      "Epoch 12/20\n",
      "2041/2041 [==============================] - 20s 10ms/step - loss: 0.1569 - tp: 13491.0000 - fp: 8520.0000 - tn: 971729.0000 - fn: 51157.0000 - accuracy: 0.9429 - precision: 0.6129 - recall: 0.2087 - auc: 0.8931 - val_loss: 0.1567 - val_tp: 2982.0000 - val_fp: 1751.0000 - val_tn: 243312.0000 - val_fn: 13180.0000 - val_accuracy: 0.9428 - val_precision: 0.6300 - val_recall: 0.1845 - val_auc: 0.8930\n",
      "Epoch 13/20\n",
      "2041/2041 [==============================] - 22s 11ms/step - loss: 0.1568 - tp: 13480.0000 - fp: 8533.0000 - tn: 971716.0000 - fn: 51168.0000 - accuracy: 0.9429 - precision: 0.6124 - recall: 0.2085 - auc: 0.8933 - val_loss: 0.1565 - val_tp: 3264.0000 - val_fp: 2019.0000 - val_tn: 243044.0000 - val_fn: 12898.0000 - val_accuracy: 0.9429 - val_precision: 0.6178 - val_recall: 0.2020 - val_auc: 0.8933\n",
      "Epoch 14/20\n",
      "2041/2041 [==============================] - 21s 10ms/step - loss: 0.1568 - tp: 13525.0000 - fp: 8489.0000 - tn: 971760.0000 - fn: 51123.0000 - accuracy: 0.9429 - precision: 0.6144 - recall: 0.2092 - auc: 0.8934 - val_loss: 0.1565 - val_tp: 3072.0000 - val_fp: 1845.0000 - val_tn: 243218.0000 - val_fn: 13090.0000 - val_accuracy: 0.9428 - val_precision: 0.6248 - val_recall: 0.1901 - val_auc: 0.8934\n",
      "Epoch 15/20\n",
      "2041/2041 [==============================] - 20s 10ms/step - loss: 0.1567 - tp: 13504.0000 - fp: 8543.0000 - tn: 971706.0000 - fn: 51144.0000 - accuracy: 0.9429 - precision: 0.6125 - recall: 0.2089 - auc: 0.8937 - val_loss: 0.1564 - val_tp: 2956.0000 - val_fp: 1710.0000 - val_tn: 243353.0000 - val_fn: 13206.0000 - val_accuracy: 0.9429 - val_precision: 0.6335 - val_recall: 0.1829 - val_auc: 0.8935\n",
      "Epoch 16/20\n",
      "2041/2041 [==============================] - 20s 10ms/step - loss: 0.1566 - tp: 13496.0000 - fp: 8472.0000 - tn: 971777.0000 - fn: 51152.0000 - accuracy: 0.9429 - precision: 0.6143 - recall: 0.2088 - auc: 0.8938 - val_loss: 0.1571 - val_tp: 2622.0000 - val_fp: 1431.0000 - val_tn: 243632.0000 - val_fn: 13540.0000 - val_accuracy: 0.9427 - val_precision: 0.6469 - val_recall: 0.1622 - val_auc: 0.8930\n",
      "Epoch 17/20\n",
      "2041/2041 [==============================] - 23s 11ms/step - loss: 0.1565 - tp: 13541.0000 - fp: 8480.0000 - tn: 971769.0000 - fn: 51107.0000 - accuracy: 0.9430 - precision: 0.6149 - recall: 0.2095 - auc: 0.8940 - val_loss: 0.1563 - val_tp: 3540.0000 - val_fp: 2263.0000 - val_tn: 242800.0000 - val_fn: 12622.0000 - val_accuracy: 0.9430 - val_precision: 0.6100 - val_recall: 0.2190 - val_auc: 0.8939\n",
      "Epoch 18/20\n",
      "2041/2041 [==============================] - 22s 11ms/step - loss: 0.1565 - tp: 13565.0000 - fp: 8454.0000 - tn: 971795.0000 - fn: 51083.0000 - accuracy: 0.9430 - precision: 0.6161 - recall: 0.2098 - auc: 0.8940 - val_loss: 0.1565 - val_tp: 3580.0000 - val_fp: 2326.0000 - val_tn: 242737.0000 - val_fn: 12582.0000 - val_accuracy: 0.9429 - val_precision: 0.6062 - val_recall: 0.2215 - val_auc: 0.8941\n",
      "Epoch 19/20\n",
      "2041/2041 [==============================] - 19s 9ms/step - loss: 0.1564 - tp: 13561.0000 - fp: 8457.0000 - tn: 971792.0000 - fn: 51087.0000 - accuracy: 0.9430 - precision: 0.6159 - recall: 0.2098 - auc: 0.8941 - val_loss: 0.1562 - val_tp: 3436.0000 - val_fp: 2148.0000 - val_tn: 242915.0000 - val_fn: 12726.0000 - val_accuracy: 0.9431 - val_precision: 0.6153 - val_recall: 0.2126 - val_auc: 0.8939\n",
      "Epoch 20/20\n",
      "2041/2041 [==============================] - 19s 9ms/step - loss: 0.1564 - tp: 13543.0000 - fp: 8514.0000 - tn: 971735.0000 - fn: 51105.0000 - accuracy: 0.9429 - precision: 0.6140 - recall: 0.2095 - auc: 0.8942 - val_loss: 0.1561 - val_tp: 3165.0000 - val_fp: 1895.0000 - val_tn: 243168.0000 - val_fn: 12997.0000 - val_accuracy: 0.9430 - val_precision: 0.6255 - val_recall: 0.1958 - val_auc: 0.8940\n"
     ]
    }
   ],
   "source": [
    "# train model \n",
    "model_trainer = ModelTrainer(model = transfer_gnews, experiment_name = \"mriv_model0_exp0\")\n",
    "transfer_gnews_history = model_trainer.train_history(train_data = train_data, validation_data = test_data)\n"
   ]
  },
  {
   "cell_type": "code",
   "execution_count": null,
   "metadata": {},
   "outputs": [],
   "source": [
    "# plot key metrics over training history \n"
   ]
  },
  {
   "cell_type": "code",
   "execution_count": 11,
   "metadata": {},
   "outputs": [],
   "source": [
    "# save serialized model\n",
    "\n",
    "# hd5 file includes :\n",
    "# The model's architecture\n",
    "# The model's weight values (which were learned during training)\n",
    "# The model's training config (what you passed to compile), if any\n",
    "# The optimizer and its state, if any (this enables you to restart training where you left)\n",
    "\n",
    "model_trainer.save_model()"
   ]
  },
  {
   "cell_type": "code",
   "execution_count": 12,
   "metadata": {},
   "outputs": [],
   "source": [
    "model_trainer.model.reset_metrics()\n",
    "model_trainer.model.save(os.getcwd() + '/data/saved_models/{}.h5'.format(model_trainer.experiment_name), save_format='tf')"
   ]
  },
  {
   "cell_type": "code",
   "execution_count": null,
   "metadata": {},
   "outputs": [],
   "source": [
    "# test saved model and plot history \n"
   ]
  },
  {
   "cell_type": "code",
   "execution_count": 15,
   "metadata": {},
   "outputs": [
    {
     "data": {
      "text/plain": [
       "array(<TensorSliceDataset shapes: ((), ()), types: (tf.string, tf.int64)>,\n",
       "      dtype=object)"
      ]
     },
     "execution_count": 15,
     "metadata": {},
     "output_type": "execute_result"
    }
   ],
   "source": []
  }
 ],
 "metadata": {
  "file_extension": ".py",
  "kernelspec": {
   "display_name": "Python 3.6.10 64-bit ('quora': conda)",
   "language": "python",
   "name": "python361064bitquoraconda9b0626ecaedd4d86b27b6bf9323516ef"
  },
  "language_info": {
   "codemirror_mode": {
    "name": "ipython",
    "version": 3
   },
   "file_extension": ".py",
   "mimetype": "text/x-python",
   "name": "python",
   "nbconvert_exporter": "python",
   "pygments_lexer": "ipython3",
   "version": "3.6.10"
  },
  "mimetype": "text/x-python",
  "name": "python",
  "npconvert_exporter": "python",
  "pygments_lexer": "ipython3",
  "version": 3
 },
 "nbformat": 4,
 "nbformat_minor": 2
}
